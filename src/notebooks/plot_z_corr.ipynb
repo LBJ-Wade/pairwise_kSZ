{
 "cells": [
  {
   "cell_type": "code",
   "execution_count": 1,
   "metadata": {
    "collapsed": true
   },
   "outputs": [],
   "source": [
    "%matplotlib inline\n",
    "%load_ext autoreload\n",
    "%autoreload 2\n",
    "%config InlineBackend.figure_format = 'svg' # For mac users with Retina display\n",
    "\n",
    "import numpy as np\n",
    "import numba, argparse, gzip, pickle, os\n",
    "import matplotlib.pyplot as plt\n",
    "import pandas as pd"
   ]
  },
  {
   "cell_type": "code",
   "execution_count": 2,
   "metadata": {
    "collapsed": true
   },
   "outputs": [],
   "source": [
    "folder_tabs = '../../data/kSZ_tables/'"
   ]
  },
  {
   "cell_type": "code",
   "execution_count": 3,
   "metadata": {
    "collapsed": true
   },
   "outputs": [],
   "source": [
    "def ReadTab(fname_tab, zmin=0.2, zmax=1., Mmin=1e14, Mmax=3e14, nobj=1000):\n",
    "    tab = pd.read_pickle(fname_tab)\n",
    "    tab = tab[(tab.M200 > Mmin) & (tab.M200 < Mmax)]    \n",
    "    tab = tab[(tab.Z > zmin) & (tab.Z < zmax)]\n",
    "    tab = tab.sample(nobj)\n",
    "    \n",
    "    return tab"
   ]
  },
  {
   "cell_type": "code",
   "execution_count": 4,
   "metadata": {
    "collapsed": true
   },
   "outputs": [],
   "source": [
    "zmin = 0.1\n",
    "zmax = 0.8\n",
    "Mmin = 1e14\n",
    "Mmax = 3e14"
   ]
  },
  {
   "cell_type": "code",
   "execution_count": null,
   "metadata": {
    "collapsed": true
   },
   "outputs": [],
   "source": [
    "fname_kSZ_tSZ_CMB_noise_AP = os.path.join(folder_tabs, 'T_kSZ_tSZ_Flender_CMB_noise18muK_fwhm1.2arcmin_footprintSPT-SZ_theta2.0arcmin_AP.pkl.gz')\n"
   ]
  },
  {
   "cell_type": "code",
   "execution_count": null,
   "metadata": {
    "collapsed": true
   },
   "outputs": [],
   "source": [
    "tab_kSZ_tSZ_CMB_noise_AP = ReadTab(fname_kSZ_tSZ_CMB_noise_AP, zmin=zmin, zmax=zmax, Mmin=Mmin, Mmax=Mmax)"
   ]
  },
  {
   "cell_type": "code",
   "execution_count": null,
   "metadata": {
    "collapsed": true
   },
   "outputs": [],
   "source": []
  },
  {
   "cell_type": "code",
   "execution_count": null,
   "metadata": {
    "collapsed": true
   },
   "outputs": [],
   "source": []
  },
  {
   "cell_type": "code",
   "execution_count": null,
   "metadata": {
    "collapsed": true
   },
   "outputs": [],
   "source": []
  }
 ],
 "metadata": {
  "kernelspec": {
   "display_name": "Python 2",
   "language": "python",
   "name": "python2"
  },
  "language_info": {
   "codemirror_mode": {
    "name": "ipython",
    "version": 2
   },
   "file_extension": ".py",
   "mimetype": "text/x-python",
   "name": "python",
   "nbconvert_exporter": "python",
   "pygments_lexer": "ipython2",
   "version": "2.7.14"
  }
 },
 "nbformat": 4,
 "nbformat_minor": 2
}
